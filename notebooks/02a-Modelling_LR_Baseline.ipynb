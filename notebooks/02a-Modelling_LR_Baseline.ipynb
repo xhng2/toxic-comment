{
 "cells": [
  {
   "cell_type": "markdown",
   "id": "communist-occupation",
   "metadata": {},
   "source": [
    "#### Import required libraries"
   ]
  },
  {
   "cell_type": "code",
   "execution_count": 1,
   "id": "separate-mumbai",
   "metadata": {},
   "outputs": [],
   "source": [
    "import pandas as pd\n",
    "import numpy as np\n",
    "import os\n",
    "\n",
    "from sklearn.feature_extraction.text import CountVectorizer\n",
    "from sklearn.linear_model import LogisticRegression\n",
    "from common import tokenize, eval_pred"
   ]
  },
  {
   "cell_type": "markdown",
   "id": "faced-honey",
   "metadata": {},
   "source": [
    "#### Read Data"
   ]
  },
  {
   "cell_type": "code",
   "execution_count": 2,
   "id": "secondary-kernel",
   "metadata": {},
   "outputs": [
    {
     "name": "stdout",
     "output_type": "stream",
     "text": [
      "(159571, 8) (153164, 8)\n"
     ]
    }
   ],
   "source": [
    "train_df = pd.read_csv('../data/train.csv')\n",
    "test_df = pd.read_csv('../data/test.csv')\n",
    "test_y = pd.read_csv('../data/test_labels.csv')\n",
    "test_df = pd.concat([test_df, test_y.iloc[:,1:]], axis=1, sort=False)\n",
    "print(train_df.shape, test_df.shape)"
   ]
  },
  {
   "cell_type": "markdown",
   "id": "raising-harvest",
   "metadata": {},
   "source": [
    "#### Initialization"
   ]
  },
  {
   "cell_type": "code",
   "execution_count": 3,
   "id": "sorted-cancer",
   "metadata": {},
   "outputs": [
    {
     "data": {
      "text/plain": [
       "['toxic', 'severe_toxic', 'obscene', 'threat', 'insult', 'identity_hate']"
      ]
     },
     "execution_count": 3,
     "metadata": {},
     "output_type": "execute_result"
    }
   ],
   "source": [
    "scores_tracker = {}\n",
    "non_toxic_label = 'non_toxic'\n",
    "comment_col = 'comment_text'\n",
    "\n",
    "class_labels = train_df.columns.tolist()[2:]\n",
    "class_labels"
   ]
  },
  {
   "cell_type": "code",
   "execution_count": 4,
   "id": "equal-archives",
   "metadata": {},
   "outputs": [],
   "source": [
    "# Create non-toxic class and fillna\n",
    "train_df[non_toxic_label] = 1 - train_df[class_labels].max(axis=1)\n",
    "train_df[comment_col] = train_df[comment_col].fillna('unknown')\n",
    "test_df[comment_col] = test_df[comment_col].fillna('unknown')"
   ]
  },
  {
   "cell_type": "markdown",
   "id": "specialized-april",
   "metadata": {},
   "source": [
    " "
   ]
  },
  {
   "cell_type": "markdown",
   "id": "representative-system",
   "metadata": {},
   "source": [
    "#### 1. Baseline Model - Logistic Regression\n",
    "- With bag-of-features representation of text comments"
   ]
  },
  {
   "cell_type": "markdown",
   "id": "reflected-hunter",
   "metadata": {},
   "source": [
    "##### Functions"
   ]
  },
  {
   "cell_type": "code",
   "execution_count": 5,
   "id": "earned-mission",
   "metadata": {},
   "outputs": [],
   "source": [
    "def get_pred_lr(train_y, train_x,\n",
    "                test_x,\n",
    "                class_labels=class_labels,\n",
    "                **kwargs):\n",
    "    '''Get predictions for each label at a time'''\n",
    "    # Initialize prediction output array\n",
    "    preds = np.zeros((test_x.shape[0], len(class_labels)))\n",
    "\n",
    "    # Get predictions for each label\n",
    "    for idx, label in enumerate(class_labels):\n",
    "        print('fit', label)\n",
    "        m = LogisticRegression(**kwargs)\n",
    "        m.fit(train_x, train_y[label])\n",
    "        preds[:, idx] = m.predict_proba(test_x)[:, 1]\n",
    "    return preds\n",
    "\n",
    "def run_lr_base(vectorizer,\n",
    "                train_df, test_df,\n",
    "                comment_col=comment_col,\n",
    "                class_labels=class_labels,\n",
    "                **kwargs):\n",
    "    '''Run 1 logistic regression prediction cycle'''\n",
    "    \n",
    "    # Transform data\n",
    "    train_x = vectorizer.fit_transform(train_df[comment_col])\n",
    "    test_x = vectorizer.transform(test_df[comment_col])\n",
    "    train_y = train_df[class_labels]\n",
    "    test_y = test_df[class_labels]\n",
    "    \n",
    "    # Get prediction and score\n",
    "    preds = get_pred_lr(train_y, train_x,\n",
    "                        test_x,\n",
    "                        class_labels,\n",
    "                        **kwargs)\n",
    "    score = eval_pred(test_y, preds, class_labels)\n",
    "    \n",
    "    return score"
   ]
  },
  {
   "cell_type": "markdown",
   "id": "former-still",
   "metadata": {},
   "source": [
    "##### RUN - Baseline"
   ]
  },
  {
   "cell_type": "code",
   "execution_count": 6,
   "id": "cathedral-storm",
   "metadata": {},
   "outputs": [],
   "source": [
    "# Define vectorizers\n",
    "cntvec = CountVectorizer(ngram_range=(1,2), tokenizer=tokenize,\n",
    "                        min_df=3, max_df=0.9, strip_accents='unicode')"
   ]
  },
  {
   "cell_type": "code",
   "execution_count": 7,
   "id": "immune-translation",
   "metadata": {},
   "outputs": [
    {
     "name": "stdout",
     "output_type": "stream",
     "text": [
      "fit toxic\n",
      "fit severe_toxic\n",
      "fit obscene\n",
      "fit threat\n",
      "fit insult\n",
      "fit identity_hate\n",
      "Mean ROC-AUC: 0.938047333754659\n",
      "Wall time: 11min 19s\n"
     ]
    }
   ],
   "source": [
    "%%time\n",
    "# Fit, predict and get scores\n",
    "score_lr_base = run_lr_base(\n",
    "    cntvec, train_df, test_df,\n",
    "    comment_col=comment_col,\n",
    "    class_labels=class_labels,\n",
    "    C=4, dual=False,\n",
    "    max_iter=200,\n",
    "    random_state=123, n_jobs=-1)\n",
    "scores_tracker['lr_base'] = score_lr_base"
   ]
  }
 ],
 "metadata": {
  "kernelspec": {
   "display_name": "Python 3",
   "language": "python",
   "name": "python3"
  },
  "language_info": {
   "codemirror_mode": {
    "name": "ipython",
    "version": 3
   },
   "file_extension": ".py",
   "mimetype": "text/x-python",
   "name": "python",
   "nbconvert_exporter": "python",
   "pygments_lexer": "ipython3",
   "version": "3.7.10"
  }
 },
 "nbformat": 4,
 "nbformat_minor": 5
}
